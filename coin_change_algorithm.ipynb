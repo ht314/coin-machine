{
 "cells": [
  {
   "cell_type": "code",
   "execution_count": null,
   "metadata": {},
   "outputs": [],
   "source": [
    "# Coin Machine\n",
    "#### GitHub: https://github.com/ht314/coin-machine\n",
    "\n",
    "This notebook presents a coin change algorithm.  "
   ]
  },
  {
   "cell_type": "code",
   "execution_count": 4,
   "metadata": {},
   "outputs": [
    {
     "name": "stdout",
     "output_type": "stream",
     "text": [
      "There are:\n",
      "225\n",
      "different ways to change £0-50 with an odd coin count.\n",
      "\n",
      "There are:\n",
      "36841\n",
      "different ways to change £2- with an odd coin count.\n",
      "\n",
      "There are:\n",
      "160667943\n",
      "different ways to change £10- with an odd coin count.\n",
      "\n",
      "There are:\n",
      "566936652323800\n",
      "different ways to change £100- with an odd coin count.\n",
      "\n"
     ]
    }
   ],
   "source": [
    "# -*- coding: utf-8 -*-\n",
    "\"\"\"\n",
    "Created on Sat Apr 17 20:44:59 2021\n",
    "\n",
    "@author: ht314\n",
    "\"\"\"\n",
    " \n",
    "import math\n",
    "from re import sub\n",
    "\n",
    "\n",
    "def getNumberOfWays(N, Coins):\n",
    " \n",
    "    # Create the ways array to 1 plus the amount\n",
    "    # to stop overflow\n",
    "    ways = [0] * (N + 1);\n",
    " \n",
    "    # Set the first way to 1 because its 0 and\n",
    "    # there is 1 way to make 0 with 0 coins\n",
    "    ways[0] = 1;\n",
    " \n",
    "    # Go through all of the coins\n",
    "    for i in range(len(Coins)):\n",
    " \n",
    "        # Make a comparison to each index value\n",
    "        # of ways with the coin value.\n",
    "        for j in range(len(ways)):\n",
    "            if (Coins[i] <= j):\n",
    " \n",
    "                # Update the ways array\n",
    "                ways[j] += ways[(int)(j - Coins[i])];\n",
    "\n",
    "    # return the value at the Nth position\n",
    "    # of the ways array.\n",
    "    return ways[N];\n",
    " \n",
    "    \n",
    "def printArray(coins):\n",
    "    for i in coins:\n",
    "        print(i);\n",
    "        \n",
    " \n",
    "def return_odd_change_count(Coin, total_number, Coins): \n",
    "   \n",
    "    if ((Coin+1)%4 == 0):\n",
    "        return int(total_number/2)\n",
    "    elif (Coin % 2) == 0:\n",
    "        return int(math.floor(total_number/2))\n",
    "    else: \n",
    "        return (total_number/2)+1\n",
    "    \n",
    "    \n",
    "if __name__ == '__main__':\n",
    "    Coins = [1, 2, 5, 10, 20, 50, 100, 200];\n",
    "    \n",
    "    money = ['£0-50', '£2-', '£10-', '£100-']\n",
    "    \n",
    "    for m in money: \n",
    "        i = m.replace('-', '.')\n",
    "        i = float(sub(r'[^\\d.]', '', i))\n",
    "        i = format(i, '.2f').split('.')\n",
    "        Coin = int(i[0])*100 + int(i[1])\n",
    "    \n",
    "        print('There are:')\n",
    "        print(return_odd_change_count(Coin, getNumberOfWays(Coin, Coins), Coins))\n",
    "        print('different ways to change ' + m + ' with an odd coin count.\\n')"
   ]
  },
  {
   "cell_type": "code",
   "execution_count": null,
   "metadata": {},
   "outputs": [],
   "source": []
  }
 ],
 "metadata": {
  "kernelspec": {
   "display_name": "Python 3",
   "language": "python",
   "name": "python3"
  },
  "language_info": {
   "codemirror_mode": {
    "name": "ipython",
    "version": 3
   },
   "file_extension": ".py",
   "mimetype": "text/x-python",
   "name": "python",
   "nbconvert_exporter": "python",
   "pygments_lexer": "ipython3",
   "version": "3.7.3"
  }
 },
 "nbformat": 4,
 "nbformat_minor": 4
}
