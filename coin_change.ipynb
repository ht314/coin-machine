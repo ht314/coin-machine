{
 "cells": [
  {
   "cell_type": "markdown",
   "metadata": {},
   "source": [
    "# Coin Machine\n",
    "#### GitHub: hhttps://github.com/ht314/coin-machine\n",
    "\n",
    "This notebook presents a coin change algorithm.  "
   ]
  },
  {
   "cell_type": "code",
   "execution_count": 2,
   "metadata": {},
   "outputs": [
    {
     "name": "stdout",
     "output_type": "stream",
     "text": [
      "The Coins Array:\n",
      "1\n",
      "2\n",
      "5\n",
      "10\n",
      "20\n",
      "50\n",
      "100\n",
      "200\n",
      "Solution:11\n",
      "10\n"
     ]
    }
   ],
   "source": [
    "def getNumberOfWays(N, Coins):\n",
    " \n",
    "    # Create the ways array to 1 plus the amount\n",
    "    # to stop overflow\n",
    "    ways = [0] * (N + 1);\n",
    " \n",
    "    # Set the first way to 1 because its 0 and\n",
    "    # there is 1 way to make 0 with 0 coins\n",
    "    ways[0] = 1;\n",
    " \n",
    "    # Go through all of the coins\n",
    "    for i in range(len(Coins)):\n",
    " \n",
    "        # Make a comparison to each index value\n",
    "        # of ways with the coin value.\n",
    "        for j in range(len(ways)):\n",
    "            if (Coins[i] <= j):\n",
    " \n",
    "                # Update the ways array\n",
    "                ways[j] += ways[(int)(j - Coins[i])];\n",
    "\n",
    "    # return the value at the Nth position\n",
    "    # of the ways array.\n",
    "    return ways[N];\n",
    " \n",
    "def printArray(coins):\n",
    "    for i in coins:\n",
    "        print(i);\n",
    "        \n",
    "def make_change(goal, coins):\n",
    "    wallets = [[coin] for coin in coins]\n",
    "    new_wallets = []\n",
    "    collected = []\n",
    "\n",
    "    while wallets:\n",
    "        for wallet in wallets:\n",
    "            s = sum(wallet)\n",
    "            for coin in coins:\n",
    "                if coin >= wallet[-1]:\n",
    "                    if s + coin < goal:\n",
    "                        new_wallets.append(wallet + [coin])\n",
    "                    elif s + coin == goal:\n",
    "                        collected.append(wallet + [coin])\n",
    "        wallets = new_wallets\n",
    "        new_wallets = []\n",
    "    return collected\n",
    " \n",
    "Coins = [1, 2, 5, 10, 20, 50, 100, 200];\n",
    " \n",
    "print(\"The Coins Array:\");\n",
    "printArray(Coins);\n",
    " \n",
    "print(\"Solution:\",end=\"\");\n",
    "print(getNumberOfWays(10, Coins));\n",
    "    \n",
    "c = make_change(10, Coins)\n",
    "print(len(c))"
   ]
  },
  {
   "cell_type": "code",
   "execution_count": null,
   "metadata": {},
   "outputs": [],
   "source": []
  }
 ],
 "metadata": {
  "kernelspec": {
   "display_name": "Python 3",
   "language": "python",
   "name": "python3"
  },
  "language_info": {
   "codemirror_mode": {
    "name": "ipython",
    "version": 3
   },
   "file_extension": ".py",
   "mimetype": "text/x-python",
   "name": "python",
   "nbconvert_exporter": "python",
   "pygments_lexer": "ipython3",
   "version": "3.7.3"
  }
 },
 "nbformat": 4,
 "nbformat_minor": 4
}
